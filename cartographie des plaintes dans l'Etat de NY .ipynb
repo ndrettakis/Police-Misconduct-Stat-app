{
 "cells": [
  {
   "cell_type": "markdown",
   "id": "ea850ee9",
   "metadata": {},
   "source": [
    "# Cartographie des plaintes dans l'Etat de new York "
   ]
  },
  {
   "cell_type": "code",
   "execution_count": 5,
   "id": "f35797e3",
   "metadata": {},
   "outputs": [],
   "source": [
    "import geopandas as gpd\n",
    "import pandas as pd "
   ]
  },
  {
   "cell_type": "code",
   "execution_count": 36,
   "id": "71a03f74",
   "metadata": {},
   "outputs": [],
   "source": [
    "pathgeo = \"https://raw.githubusercontent.com/ndrettakis/Police-Misconduct-Stat-app/main/police_precincts.geojson\"\n",
    "pathdata=\"https://raw.githubusercontent.com/ndrettakis/Police-Misconduct-Stat-app/main/allegations_202007271729.xlsx\"\n",
    "precinct = gpd.read_file(pathgeo)\n",
    "df=pd.read_excel(pathdata)\n",
    "df.columns= df.loc[0]\n",
    "df=df.drop(0)\n",
    "df=df[df['year_received']>=2000]\n",
    "df=df[df['precinct']!=(\"1000\"and )]\n"
   ]
  },
  {
   "cell_type": "code",
   "execution_count": 39,
   "id": "7a9b8544",
   "metadata": {},
   "outputs": [
    {
     "data": {
      "text/plain": [
       "75      2096\n",
       "73      1148\n",
       "44      1086\n",
       "46      1073\n",
       "67      1055\n",
       "        ... \n",
       "66        84\n",
       "17        74\n",
       "111       36\n",
       "22        12\n",
       "1000       3\n",
       "Name: precinct, Length: 78, dtype: int64"
      ]
     },
     "execution_count": 39,
     "metadata": {},
     "output_type": "execute_result"
    }
   ],
   "source": [
    "df['precinct'].value_counts()"
   ]
  },
  {
   "cell_type": "code",
   "execution_count": 37,
   "id": "b0ad2962",
   "metadata": {},
   "outputs": [],
   "source": [
    "df_nb_by_precinct=pd.DataFrame(df['precinct'].value_counts())"
   ]
  },
  {
   "cell_type": "code",
   "execution_count": 38,
   "id": "1270c7a3",
   "metadata": {},
   "outputs": [
    {
     "data": {
      "text/html": [
       "<div>\n",
       "<style scoped>\n",
       "    .dataframe tbody tr th:only-of-type {\n",
       "        vertical-align: middle;\n",
       "    }\n",
       "\n",
       "    .dataframe tbody tr th {\n",
       "        vertical-align: top;\n",
       "    }\n",
       "\n",
       "    .dataframe thead th {\n",
       "        text-align: right;\n",
       "    }\n",
       "</style>\n",
       "<table border=\"1\" class=\"dataframe\">\n",
       "  <thead>\n",
       "    <tr style=\"text-align: right;\">\n",
       "      <th></th>\n",
       "      <th>precinct</th>\n",
       "    </tr>\n",
       "  </thead>\n",
       "  <tbody>\n",
       "    <tr>\n",
       "      <th>75</th>\n",
       "      <td>2096</td>\n",
       "    </tr>\n",
       "    <tr>\n",
       "      <th>73</th>\n",
       "      <td>1148</td>\n",
       "    </tr>\n",
       "    <tr>\n",
       "      <th>44</th>\n",
       "      <td>1086</td>\n",
       "    </tr>\n",
       "    <tr>\n",
       "      <th>46</th>\n",
       "      <td>1073</td>\n",
       "    </tr>\n",
       "    <tr>\n",
       "      <th>67</th>\n",
       "      <td>1055</td>\n",
       "    </tr>\n",
       "    <tr>\n",
       "      <th>...</th>\n",
       "      <td>...</td>\n",
       "    </tr>\n",
       "    <tr>\n",
       "      <th>66</th>\n",
       "      <td>84</td>\n",
       "    </tr>\n",
       "    <tr>\n",
       "      <th>17</th>\n",
       "      <td>74</td>\n",
       "    </tr>\n",
       "    <tr>\n",
       "      <th>111</th>\n",
       "      <td>36</td>\n",
       "    </tr>\n",
       "    <tr>\n",
       "      <th>22</th>\n",
       "      <td>12</td>\n",
       "    </tr>\n",
       "    <tr>\n",
       "      <th>1000</th>\n",
       "      <td>3</td>\n",
       "    </tr>\n",
       "  </tbody>\n",
       "</table>\n",
       "<p>78 rows × 1 columns</p>\n",
       "</div>"
      ],
      "text/plain": [
       "      precinct\n",
       "75        2096\n",
       "73        1148\n",
       "44        1086\n",
       "46        1073\n",
       "67        1055\n",
       "...        ...\n",
       "66          84\n",
       "17          74\n",
       "111         36\n",
       "22          12\n",
       "1000         3\n",
       "\n",
       "[78 rows x 1 columns]"
      ]
     },
     "execution_count": 38,
     "metadata": {},
     "output_type": "execute_result"
    }
   ],
   "source": [
    "df_nb_by_precinct"
   ]
  },
  {
   "cell_type": "code",
   "execution_count": null,
   "id": "697db699",
   "metadata": {},
   "outputs": [],
   "source": []
  }
 ],
 "metadata": {
  "kernelspec": {
   "display_name": "Python 3 (ipykernel)",
   "language": "python",
   "name": "python3"
  },
  "language_info": {
   "codemirror_mode": {
    "name": "ipython",
    "version": 3
   },
   "file_extension": ".py",
   "mimetype": "text/x-python",
   "name": "python",
   "nbconvert_exporter": "python",
   "pygments_lexer": "ipython3",
   "version": "3.9.7"
  }
 },
 "nbformat": 4,
 "nbformat_minor": 5
}
