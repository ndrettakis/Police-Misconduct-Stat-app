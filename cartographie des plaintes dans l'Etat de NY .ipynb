{
 "cells": [
  {
   "cell_type": "markdown",
   "id": "ea850ee9",
   "metadata": {},
   "source": [
    "# Cartographie des plaintes dans l'Etat de new York "
   ]
  },
  {
   "cell_type": "code",
   "execution_count": 128,
   "id": "f35797e3",
   "metadata": {},
   "outputs": [],
   "source": [
    "import geopandas as gpd\n",
    "import pandas as pd \n",
    "import matplotlib.pyplot as plt\n",
    "import matplotlib.colors as colors\n",
    "import numpy as np\n",
    "from geopandas import GeoDataFrame"
   ]
  },
  {
   "cell_type": "code",
   "execution_count": 156,
   "id": "ddcdbf73",
   "metadata": {},
   "outputs": [],
   "source": [
    "pathgeo = \"https://raw.githubusercontent.com/ndrettakis/Police-Misconduct-Stat-app/main/police_precincts.geojson\"\n",
    "precinct = gpd.read_file(pathgeo)"
   ]
  },
  {
   "cell_type": "code",
   "execution_count": 157,
   "id": "6f6db36f",
   "metadata": {},
   "outputs": [
    {
     "data": {
      "text/html": [
       "<div>\n",
       "<style scoped>\n",
       "    .dataframe tbody tr th:only-of-type {\n",
       "        vertical-align: middle;\n",
       "    }\n",
       "\n",
       "    .dataframe tbody tr th {\n",
       "        vertical-align: top;\n",
       "    }\n",
       "\n",
       "    .dataframe thead th {\n",
       "        text-align: right;\n",
       "    }\n",
       "</style>\n",
       "<table border=\"1\" class=\"dataframe\">\n",
       "  <thead>\n",
       "    <tr style=\"text-align: right;\">\n",
       "      <th></th>\n",
       "      <th>Precinct</th>\n",
       "      <th>Shape_Leng</th>\n",
       "      <th>Shape_Area</th>\n",
       "      <th>geometry</th>\n",
       "    </tr>\n",
       "  </thead>\n",
       "  <tbody>\n",
       "    <tr>\n",
       "      <th>0</th>\n",
       "      <td>1</td>\n",
       "      <td>79992.926375</td>\n",
       "      <td>4.718491e+07</td>\n",
       "      <td>MULTIPOLYGON (((-74.04388 40.69019, -74.04351 ...</td>\n",
       "    </tr>\n",
       "    <tr>\n",
       "      <th>1</th>\n",
       "      <td>5</td>\n",
       "      <td>18674.673547</td>\n",
       "      <td>1.808769e+07</td>\n",
       "      <td>POLYGON ((-73.98864 40.72293, -73.98869 40.722...</td>\n",
       "    </tr>\n",
       "    <tr>\n",
       "      <th>2</th>\n",
       "      <td>6</td>\n",
       "      <td>27182.337851</td>\n",
       "      <td>2.212938e+07</td>\n",
       "      <td>POLYGON ((-73.99968 40.73855, -73.99684 40.737...</td>\n",
       "    </tr>\n",
       "    <tr>\n",
       "      <th>3</th>\n",
       "      <td>7</td>\n",
       "      <td>17293.251594</td>\n",
       "      <td>1.836225e+07</td>\n",
       "      <td>POLYGON ((-73.97345 40.71896, -73.97351 40.718...</td>\n",
       "    </tr>\n",
       "    <tr>\n",
       "      <th>4</th>\n",
       "      <td>9</td>\n",
       "      <td>19773.163480</td>\n",
       "      <td>2.139672e+07</td>\n",
       "      <td>POLYGON ((-73.97161 40.72672, -73.97163 40.726...</td>\n",
       "    </tr>\n",
       "    <tr>\n",
       "      <th>...</th>\n",
       "      <td>...</td>\n",
       "      <td>...</td>\n",
       "      <td>...</td>\n",
       "      <td>...</td>\n",
       "    </tr>\n",
       "    <tr>\n",
       "      <th>71</th>\n",
       "      <td>114</td>\n",
       "      <td>113043.371920</td>\n",
       "      <td>1.756462e+08</td>\n",
       "      <td>MULTIPOLYGON (((-73.94180 40.76905, -73.94257 ...</td>\n",
       "    </tr>\n",
       "    <tr>\n",
       "      <th>72</th>\n",
       "      <td>115</td>\n",
       "      <td>58309.967669</td>\n",
       "      <td>1.131581e+08</td>\n",
       "      <td>POLYGON ((-73.85908 40.76252, -73.85943 40.762...</td>\n",
       "    </tr>\n",
       "    <tr>\n",
       "      <th>73</th>\n",
       "      <td>120</td>\n",
       "      <td>159638.735607</td>\n",
       "      <td>3.813340e+08</td>\n",
       "      <td>MULTIPOLYGON (((-74.15946 40.64145, -74.15975 ...</td>\n",
       "    </tr>\n",
       "    <tr>\n",
       "      <th>74</th>\n",
       "      <td>122</td>\n",
       "      <td>192225.122490</td>\n",
       "      <td>7.817258e+08</td>\n",
       "      <td>MULTIPOLYGON (((-74.05051 40.56642, -74.05047 ...</td>\n",
       "    </tr>\n",
       "    <tr>\n",
       "      <th>75</th>\n",
       "      <td>123</td>\n",
       "      <td>120800.625557</td>\n",
       "      <td>4.607935e+08</td>\n",
       "      <td>POLYGON ((-74.15125 40.53268, -74.15145 40.532...</td>\n",
       "    </tr>\n",
       "  </tbody>\n",
       "</table>\n",
       "<p>76 rows × 4 columns</p>\n",
       "</div>"
      ],
      "text/plain": [
       "    Precinct     Shape_Leng    Shape_Area  \\\n",
       "0          1   79992.926375  4.718491e+07   \n",
       "1          5   18674.673547  1.808769e+07   \n",
       "2          6   27182.337851  2.212938e+07   \n",
       "3          7   17293.251594  1.836225e+07   \n",
       "4          9   19773.163480  2.139672e+07   \n",
       "..       ...            ...           ...   \n",
       "71       114  113043.371920  1.756462e+08   \n",
       "72       115   58309.967669  1.131581e+08   \n",
       "73       120  159638.735607  3.813340e+08   \n",
       "74       122  192225.122490  7.817258e+08   \n",
       "75       123  120800.625557  4.607935e+08   \n",
       "\n",
       "                                             geometry  \n",
       "0   MULTIPOLYGON (((-74.04388 40.69019, -74.04351 ...  \n",
       "1   POLYGON ((-73.98864 40.72293, -73.98869 40.722...  \n",
       "2   POLYGON ((-73.99968 40.73855, -73.99684 40.737...  \n",
       "3   POLYGON ((-73.97345 40.71896, -73.97351 40.718...  \n",
       "4   POLYGON ((-73.97161 40.72672, -73.97163 40.726...  \n",
       "..                                                ...  \n",
       "71  MULTIPOLYGON (((-73.94180 40.76905, -73.94257 ...  \n",
       "72  POLYGON ((-73.85908 40.76252, -73.85943 40.762...  \n",
       "73  MULTIPOLYGON (((-74.15946 40.64145, -74.15975 ...  \n",
       "74  MULTIPOLYGON (((-74.05051 40.56642, -74.05047 ...  \n",
       "75  POLYGON ((-74.15125 40.53268, -74.15145 40.532...  \n",
       "\n",
       "[76 rows x 4 columns]"
      ]
     },
     "execution_count": 157,
     "metadata": {},
     "output_type": "execute_result"
    }
   ],
   "source": [
    "precinct"
   ]
  },
  {
   "cell_type": "code",
   "execution_count": 115,
   "id": "7700c336",
   "metadata": {},
   "outputs": [
    {
     "data": {
      "text/plain": [
       "<AxesSubplot:>"
      ]
     },
     "execution_count": 115,
     "metadata": {},
     "output_type": "execute_result"
    },
    {
     "data": {
      "image/png": "[encoded data removed]",
      "text/plain": [
       "<Figure size 432x288 with 1 Axes>"
      ]
     },
     "metadata": {
      "needs_background": "light"
     },
     "output_type": "display_data"
    }
   ],
   "source": [
    "precinct.plot()"
   ]
  },
  {
   "cell_type": "code",
   "execution_count": 53,
   "id": "71a03f74",
   "metadata": {},
   "outputs": [],
   "source": [
    "pathdata=\"https://raw.githubusercontent.com/ndrettakis/Police-Misconduct-Stat-app/main/allegations_202007271729.xlsx\"\n",
    "df=pd.read_excel(pathdata)\n",
    "df=df[df['year_received']>=2000]\n",
    "#df=df[df['precinct']!=\"1000.0\"and \"\" and \"0.0\"]\n"
   ]
  },
  {
   "cell_type": "code",
   "execution_count": 80,
   "id": "89331f0e",
   "metadata": {},
   "outputs": [
    {
     "data": {
      "text/plain": [
       "0        44\n",
       "1        46\n",
       "2        52\n",
       "3        67\n",
       "4        67\n",
       "         ..\n",
       "33353    72\n",
       "33354    72\n",
       "33355    72\n",
       "33356    72\n",
       "33357    72\n",
       "Name: precinct, Length: 31686, dtype: Int64"
      ]
     },
     "execution_count": 80,
     "metadata": {},
     "output_type": "execute_result"
    }
   ],
   "source": [
    "#on transforme \n",
    "df['precinct']=df['precinct'].astype('Int64')\n",
    "df['precinct']"
   ]
  },
  {
   "cell_type": "code",
   "execution_count": 103,
   "id": "0472e13b",
   "metadata": {},
   "outputs": [],
   "source": [
    "df_nb_by_precinct=pd.DataFrame(df['precinct'].value_counts())\n",
    "df_nb_by_precinct=df_nb_by_precinct.reset_index()\n",
    "df_nb_by_precinct=df_nb_by_precinct.rename(columns={'index':\"Precinct\",'precinct':\"number_complaint\"})"
   ]
  },
  {
   "cell_type": "code",
   "execution_count": 104,
   "id": "1270c7a3",
   "metadata": {},
   "outputs": [
    {
     "data": {
      "text/html": [
       "<div>\n",
       "<style scoped>\n",
       "    .dataframe tbody tr th:only-of-type {\n",
       "        vertical-align: middle;\n",
       "    }\n",
       "\n",
       "    .dataframe tbody tr th {\n",
       "        vertical-align: top;\n",
       "    }\n",
       "\n",
       "    .dataframe thead th {\n",
       "        text-align: right;\n",
       "    }\n",
       "</style>\n",
       "<table border=\"1\" class=\"dataframe\">\n",
       "  <thead>\n",
       "    <tr style=\"text-align: right;\">\n",
       "      <th></th>\n",
       "      <th>Precinct</th>\n",
       "      <th>number_complaint</th>\n",
       "    </tr>\n",
       "  </thead>\n",
       "  <tbody>\n",
       "    <tr>\n",
       "      <th>0</th>\n",
       "      <td>75</td>\n",
       "      <td>2096</td>\n",
       "    </tr>\n",
       "    <tr>\n",
       "      <th>1</th>\n",
       "      <td>73</td>\n",
       "      <td>1148</td>\n",
       "    </tr>\n",
       "    <tr>\n",
       "      <th>2</th>\n",
       "      <td>44</td>\n",
       "      <td>1086</td>\n",
       "    </tr>\n",
       "    <tr>\n",
       "      <th>3</th>\n",
       "      <td>46</td>\n",
       "      <td>1073</td>\n",
       "    </tr>\n",
       "    <tr>\n",
       "      <th>4</th>\n",
       "      <td>67</td>\n",
       "      <td>1055</td>\n",
       "    </tr>\n",
       "    <tr>\n",
       "      <th>...</th>\n",
       "      <td>...</td>\n",
       "      <td>...</td>\n",
       "    </tr>\n",
       "    <tr>\n",
       "      <th>73</th>\n",
       "      <td>66</td>\n",
       "      <td>84</td>\n",
       "    </tr>\n",
       "    <tr>\n",
       "      <th>74</th>\n",
       "      <td>17</td>\n",
       "      <td>74</td>\n",
       "    </tr>\n",
       "    <tr>\n",
       "      <th>75</th>\n",
       "      <td>111</td>\n",
       "      <td>36</td>\n",
       "    </tr>\n",
       "    <tr>\n",
       "      <th>76</th>\n",
       "      <td>22</td>\n",
       "      <td>12</td>\n",
       "    </tr>\n",
       "    <tr>\n",
       "      <th>77</th>\n",
       "      <td>1000</td>\n",
       "      <td>3</td>\n",
       "    </tr>\n",
       "  </tbody>\n",
       "</table>\n",
       "<p>78 rows × 2 columns</p>\n",
       "</div>"
      ],
      "text/plain": [
       "    Precinct  number_complaint\n",
       "0         75              2096\n",
       "1         73              1148\n",
       "2         44              1086\n",
       "3         46              1073\n",
       "4         67              1055\n",
       "..       ...               ...\n",
       "73        66                84\n",
       "74        17                74\n",
       "75       111                36\n",
       "76        22                12\n",
       "77      1000                 3\n",
       "\n",
       "[78 rows x 2 columns]"
      ]
     },
     "execution_count": 104,
     "metadata": {},
     "output_type": "execute_result"
    }
   ],
   "source": [
    "df_nb_by_precinct"
   ]
  },
  {
   "cell_type": "code",
   "execution_count": 119,
   "id": "685dbbbd",
   "metadata": {},
   "outputs": [
    {
     "data": {
      "text/html": [
       "<div>\n",
       "<style scoped>\n",
       "    .dataframe tbody tr th:only-of-type {\n",
       "        vertical-align: middle;\n",
       "    }\n",
       "\n",
       "    .dataframe tbody tr th {\n",
       "        vertical-align: top;\n",
       "    }\n",
       "\n",
       "    .dataframe thead th {\n",
       "        text-align: right;\n",
       "    }\n",
       "</style>\n",
       "<table border=\"1\" class=\"dataframe\">\n",
       "  <thead>\n",
       "    <tr style=\"text-align: right;\">\n",
       "      <th></th>\n",
       "      <th>Precinct</th>\n",
       "      <th>Shape_Leng</th>\n",
       "      <th>Shape_Area</th>\n",
       "      <th>geometry</th>\n",
       "      <th>number_complaint</th>\n",
       "    </tr>\n",
       "  </thead>\n",
       "  <tbody>\n",
       "    <tr>\n",
       "      <th>0</th>\n",
       "      <td>75</td>\n",
       "      <td>112553.600150</td>\n",
       "      <td>1.932422e+08</td>\n",
       "      <td>MULTIPOLYGON (((-73.84734 40.62909, -73.84985 ...</td>\n",
       "      <td>2096</td>\n",
       "    </tr>\n",
       "    <tr>\n",
       "      <th>1</th>\n",
       "      <td>73</td>\n",
       "      <td>33034.660940</td>\n",
       "      <td>5.177186e+07</td>\n",
       "      <td>POLYGON ((-73.90405 40.67922, -73.90334 40.678...</td>\n",
       "      <td>1148</td>\n",
       "    </tr>\n",
       "    <tr>\n",
       "      <th>2</th>\n",
       "      <td>44</td>\n",
       "      <td>31396.645142</td>\n",
       "      <td>5.552997e+07</td>\n",
       "      <td>POLYGON ((-73.90270 40.84458, -73.90271 40.844...</td>\n",
       "      <td>1086</td>\n",
       "    </tr>\n",
       "    <tr>\n",
       "      <th>3</th>\n",
       "      <td>46</td>\n",
       "      <td>29611.724991</td>\n",
       "      <td>3.832326e+07</td>\n",
       "      <td>POLYGON ((-73.89138 40.86170, -73.89142 40.861...</td>\n",
       "      <td>1073</td>\n",
       "    </tr>\n",
       "    <tr>\n",
       "      <th>4</th>\n",
       "      <td>67</td>\n",
       "      <td>43288.882029</td>\n",
       "      <td>9.374470e+07</td>\n",
       "      <td>POLYGON ((-73.90755 40.65119, -73.90849 40.650...</td>\n",
       "      <td>1055</td>\n",
       "    </tr>\n",
       "    <tr>\n",
       "      <th>...</th>\n",
       "      <td>...</td>\n",
       "      <td>...</td>\n",
       "      <td>...</td>\n",
       "      <td>...</td>\n",
       "      <td>...</td>\n",
       "    </tr>\n",
       "    <tr>\n",
       "      <th>71</th>\n",
       "      <td>20</td>\n",
       "      <td>27040.743169</td>\n",
       "      <td>2.767083e+07</td>\n",
       "      <td>POLYGON ((-73.96934 40.78529, -73.96983 40.784...</td>\n",
       "      <td>90</td>\n",
       "    </tr>\n",
       "    <tr>\n",
       "      <th>72</th>\n",
       "      <td>66</td>\n",
       "      <td>52361.498985</td>\n",
       "      <td>9.952021e+07</td>\n",
       "      <td>POLYGON ((-73.97140 40.64826, -73.97121 40.647...</td>\n",
       "      <td>84</td>\n",
       "    </tr>\n",
       "    <tr>\n",
       "      <th>73</th>\n",
       "      <td>17</td>\n",
       "      <td>24579.941395</td>\n",
       "      <td>2.227068e+07</td>\n",
       "      <td>MULTIPOLYGON (((-73.96421 40.74660, -73.96427 ...</td>\n",
       "      <td>74</td>\n",
       "    </tr>\n",
       "    <tr>\n",
       "      <th>74</th>\n",
       "      <td>111</td>\n",
       "      <td>97510.946949</td>\n",
       "      <td>2.603463e+08</td>\n",
       "      <td>POLYGON ((-73.71352 40.75984, -73.71358 40.759...</td>\n",
       "      <td>36</td>\n",
       "    </tr>\n",
       "    <tr>\n",
       "      <th>75</th>\n",
       "      <td>22</td>\n",
       "      <td>32710.634977</td>\n",
       "      <td>3.830534e+07</td>\n",
       "      <td>POLYGON ((-73.94922 40.79691, -73.94941 40.796...</td>\n",
       "      <td>12</td>\n",
       "    </tr>\n",
       "  </tbody>\n",
       "</table>\n",
       "<p>76 rows × 5 columns</p>\n",
       "</div>"
      ],
      "text/plain": [
       "    Precinct     Shape_Leng    Shape_Area  \\\n",
       "0         75  112553.600150  1.932422e+08   \n",
       "1         73   33034.660940  5.177186e+07   \n",
       "2         44   31396.645142  5.552997e+07   \n",
       "3         46   29611.724991  3.832326e+07   \n",
       "4         67   43288.882029  9.374470e+07   \n",
       "..       ...            ...           ...   \n",
       "71        20   27040.743169  2.767083e+07   \n",
       "72        66   52361.498985  9.952021e+07   \n",
       "73        17   24579.941395  2.227068e+07   \n",
       "74       111   97510.946949  2.603463e+08   \n",
       "75        22   32710.634977  3.830534e+07   \n",
       "\n",
       "                                             geometry  number_complaint  \n",
       "0   MULTIPOLYGON (((-73.84734 40.62909, -73.84985 ...              2096  \n",
       "1   POLYGON ((-73.90405 40.67922, -73.90334 40.678...              1148  \n",
       "2   POLYGON ((-73.90270 40.84458, -73.90271 40.844...              1086  \n",
       "3   POLYGON ((-73.89138 40.86170, -73.89142 40.861...              1073  \n",
       "4   POLYGON ((-73.90755 40.65119, -73.90849 40.650...              1055  \n",
       "..                                                ...               ...  \n",
       "71  POLYGON ((-73.96934 40.78529, -73.96983 40.784...                90  \n",
       "72  POLYGON ((-73.97140 40.64826, -73.97121 40.647...                84  \n",
       "73  MULTIPOLYGON (((-73.96421 40.74660, -73.96427 ...                74  \n",
       "74  POLYGON ((-73.71352 40.75984, -73.71358 40.759...                36  \n",
       "75  POLYGON ((-73.94922 40.79691, -73.94941 40.796...                12  \n",
       "\n",
       "[76 rows x 5 columns]"
      ]
     },
     "execution_count": 119,
     "metadata": {},
     "output_type": "execute_result"
    }
   ],
   "source": [
    "carte=pd.merge(df_nb_by_precinct,precinct,on=\"Precinct\")\n",
    "carte = carte[['Precinct','Shape_Leng','Shape_Area','geometry','number_complaint']]\n",
    "carte"
   ]
  },
  {
   "cell_type": "code",
   "execution_count": 147,
   "id": "7ce8e5ad",
   "metadata": {},
   "outputs": [
    {
     "data": {
      "text/plain": [
       "12"
      ]
     },
     "execution_count": 147,
     "metadata": {},
     "output_type": "execute_result"
    }
   ],
   "source": [
    "min(carte['number_complaint'])"
   ]
  },
  {
   "cell_type": "code",
   "execution_count": 167,
   "id": "1264c164",
   "metadata": {},
   "outputs": [
    {
     "data": {
      "text/plain": [
       "0     1.932422e+08\n",
       "1     5.177186e+07\n",
       "2     5.552997e+07\n",
       "3     3.832326e+07\n",
       "4     9.374470e+07\n",
       "          ...     \n",
       "71    2.767083e+07\n",
       "72    9.952021e+07\n",
       "73    2.227068e+07\n",
       "74    2.603463e+08\n",
       "75    3.830534e+07\n",
       "Name: Shape_Area, Length: 76, dtype: float64"
      ]
     },
     "execution_count": 167,
     "metadata": {},
     "output_type": "execute_result"
    }
   ],
   "source": [
    "df['precinct']=df['precinct'].astype('Int64')"
   ]
  },
  {
   "cell_type": "code",
   "execution_count": 129,
   "id": "0faae507",
   "metadata": {},
   "outputs": [],
   "source": [
    "carte = GeoDataFrame(carte)"
   ]
  },
  {
   "cell_type": "code",
   "execution_count": 168,
   "id": "9f751629",
   "metadata": {},
   "outputs": [],
   "source": [
    "carte['number_complaint']=carte['number_complaint'].astype('float64')"
   ]
  },
  {
   "cell_type": "code",
   "execution_count": 175,
   "id": "c94d720c",
   "metadata": {},
   "outputs": [
    {
     "data": {
      "text/plain": [
       "<AxesSubplot:>"
      ]
     },
     "execution_count": 175,
     "metadata": {},
     "output_type": "execute_result"
    },
    {
     "data": {
      "image/png": "[encoded data removed]",
      "text/plain": [
       "<Figure size 720x432 with 2 Axes>"
      ]
     },
     "metadata": {
      "needs_background": "light"
     },
     "output_type": "display_data"
    }
   ],
   "source": [
    "carte.plot(column='number_complaint',legend=True,missing_kwds={'color': 'lightgrey'},cmap='OrRd',figsize=(10, 6)\n",
    "          )"
   ]
  },
  {
   "cell_type": "code",
   "execution_count": 132,
   "id": "968e59c4",
   "metadata": {},
   "outputs": [
    {
     "data": {
      "text/plain": [
       "Text(0.5, 1.0, 'Percent of responders who know English')"
      ]
     },
     "execution_count": 132,
     "metadata": {},
     "output_type": "execute_result"
    },
    {
     "data": {
      "image/png": "[encoded data removed]",
      "text/plain": [
       "<Figure size 720x432 with 1 Axes>"
      ]
     },
     "metadata": {
      "needs_background": "light"
     },
     "output_type": "display_data"
    }
   ],
   "source": [
    "fig, ax = plt.subplots(1, figsize=(10, 6))\n",
    "ax.axis('off')\n",
    "ax.set_title('Percent of responders who know English', fontdict={'fontsize': '15', 'fontweight' : '3'})"
   ]
  },
  {
   "cell_type": "code",
   "execution_count": 133,
   "id": "dc269e14",
   "metadata": {},
   "outputs": [
    {
     "data": {
      "text/plain": [
       "<AxesSubplot:title={'center':'Percent of responders who know English'}>"
      ]
     },
     "execution_count": 133,
     "metadata": {},
     "output_type": "execute_result"
    },
    {
     "data": {
      "text/plain": [
       "<Figure size 432x288 with 0 Axes>"
      ]
     },
     "metadata": {},
     "output_type": "display_data"
    }
   ],
   "source": [
    "carte.plot(column='Precinct',\n",
    "            cmap='RdPu',\n",
    "            linewidth=0.9,\n",
    "            ax=ax,\n",
    "            edgecolor='1',\n",
    "            legend=True, missing_kwds={\n",
    "            \"color\": \"lightgrey\",\n",
    "            \"label\": \"Missing values\",},)"
   ]
  },
  {
   "cell_type": "code",
   "execution_count": null,
   "id": "30b60f37",
   "metadata": {},
   "outputs": [],
   "source": [
    "\n"
   ]
  },
  {
   "cell_type": "code",
   "execution_count": null,
   "id": "f7aa994f",
   "metadata": {},
   "outputs": [],
   "source": []
  }
 ],
 "metadata": {
  "kernelspec": {
   "display_name": "Python 3 (ipykernel)",
   "language": "python",
   "name": "python3"
  },
  "language_info": {
   "codemirror_mode": {
    "name": "ipython",
    "version": 3
   },
   "file_extension": ".py",
   "mimetype": "text/x-python",
   "name": "python",
   "nbconvert_exporter": "python",
   "pygments_lexer": "ipython3",
   "version": "3.9.7"
  }
 },
 "nbformat": 4,
 "nbformat_minor": 5
}
